{
 "cells": [
  {
   "cell_type": "markdown",
   "metadata": {},
   "source": [
    "# Testing CollateX with russpelling\n",
    "Texts: \n",
    "* Transcription of Vesy 1906, p.25 = ../texts/drucke/rjuk_1906.txt\n",
    "* Texts from wikisource\n",
    "    * [Республика Южнаго Креста — 3-е издание, 1911, дореформенная орфография](https://ru.wikisource.org/wiki/Республика_Южного_Креста_%28Брюсов%29/1911_%28ДО%29)\n",
    "    * [Республика Южного креста — 3-е издание, 1911, современная орфография](https://ru.wikisource.org/wiki/Республика_Южного_Креста_%28Брюсов%29/1911_%28ВТ%29)\n"
   ]
  },
  {
   "cell_type": "code",
   "execution_count": 11,
   "metadata": {
    "collapsed": false
   },
   "outputs": [
    {
     "data": {
      "text/plain": [
       "{'n': 'В подземной тюрьме', 't': 'Въ подземной тюрьмѣ'}"
      ]
     },
     "execution_count": 11,
     "metadata": {},
     "output_type": "execute_result"
    }
   ],
   "source": [
    "# Test, if russpelling is availiable\n",
    "# Pyhthon file has to be in the same folder\n",
    "\n",
    "from russpelling import *\n",
    "string = \"Въ подземной тюрьмѣ\"\n",
    "create_token(string)"
   ]
  },
  {
   "cell_type": "code",
   "execution_count": 55,
   "metadata": {
    "collapsed": false
   },
   "outputs": [
    {
     "data": {
      "text/html": [
       "<TABLE style=\"border: 1px solid #000000; border-collapse: collapse;\" border=\"1\" cellpadding=\"4\">\n",
       " <TR>\n",
       "  <TH>old</TH>\n",
       "  <TH>new</TH>\n",
       " </TR>\n",
       " <TR>\n",
       "  <TD bgcolor=\"FF0000\">-</TD>\n",
       "  <TD bgcolor=\"FF0000\">РЕСПУБЛИКА ЮЖНОГО\n",
       "КРЕСТА Статья в\n",
       "специальном номере\n",
       "«Северо-Европейского\n",
       "Вечернего Вестника»</TD>\n",
       " </TR>\n",
       " <TR>\n",
       "  <TD bgcolor=\"00FF00\">За послѣднее время\n",
       "появился цѣлый рядъ\n",
       "описаній страшной\n",
       "катастрофы,\n",
       "постигшей Республику\n",
       "Южнаго</TD>\n",
       "  <TD bgcolor=\"00FF00\">За последнее время\n",
       "появился целый ряд\n",
       "описаний страшной\n",
       "катастрофы,\n",
       "постигшей Республику\n",
       "Южного</TD>\n",
       " </TR>\n",
       " <TR>\n",
       "  <TD bgcolor=\"FF0000\">Креста</TD>\n",
       "  <TD bgcolor=\"FF0000\">креста</TD>\n",
       " </TR>\n",
       " <TR>\n",
       "  <TD bgcolor=\"00FF00\">. Они</TD>\n",
       "  <TD bgcolor=\"00FF00\">. Они</TD>\n",
       " </TR>\n",
       " <TR>\n",
       "  <TD bgcolor=\"FF0000\">по- разительно</TD>\n",
       "  <TD bgcolor=\"FF0000\">поразительно</TD>\n",
       " </TR>\n",
       " <TR>\n",
       "  <TD bgcolor=\"00FF00\">разнятся между собой\n",
       "и передаютъ</TD>\n",
       "  <TD bgcolor=\"00FF00\">разнятся между собой\n",
       "и передают</TD>\n",
       " </TR>\n",
       " <TR>\n",
       "  <TD bgcolor=\"FF0000\">не мало</TD>\n",
       "  <TD bgcolor=\"FF0000\">немало</TD>\n",
       " </TR>\n",
       " <TR>\n",
       "  <TD bgcolor=\"00FF00\">событій, явно\n",
       "фантастическихъ и\n",
       "невѣроятныхъ.</TD>\n",
       "  <TD bgcolor=\"00FF00\">событий, явно\n",
       "фантастических и\n",
       "невероятных.</TD>\n",
       " </TR>\n",
       " <TR>\n",
       "  <TD bgcolor=\"FF0000\">-</TD>\n",
       "  <TD bgcolor=\"FF0000\">По-видимому,\n",
       "составители этих\n",
       "описаний слишком\n",
       "доверчиво относились\n",
       "к показаниям\n",
       "спасшихся жителей\n",
       "Звездного города,\n",
       "которые, как\n",
       "известно, все были\n",
       "поражены психическим\n",
       "расстройством. Вот\n",
       "почему мы считаем\n",
       "полезным и\n",
       "своевременным\n",
       "сделать здесь свод\n",
       "всех достоверных\n",
       "сведений, какие пока\n",
       "имеем о трагедии,\n",
       "разыгравшейся на\n",
       "Южном полюсе.\n",
       "Республика Южного\n",
       "креста возникла\n",
       "сорок лет тому назад\n",
       "из треста\n",
       "сталелитейных\n",
       "заводов,\n",
       "расположенных в\n",
       "южно-полярных\n",
       "областях. В\n",
       "циркулярной ноте,\n",
       "разосланной\n",
       "правительствам всего\n",
       "земного шара, новое\n",
       "государство выразило\n",
       "притязания на все\n",
       "земли, как\n",
       "материковые, так и\n",
       "островные,\n",
       "заключенные в\n",
       "пределах южно-\n",
       "полярного круга,\n",
       "равно как на все\n",
       "части этих земель,\n",
       "выходящие из\n",
       "указанных пределов.\n",
       "Земли эти оно\n",
       "изъявляло готовность\n",
       "приобрести покупкой\n",
       "у государств,\n",
       "считавших их под\n",
       "своим протекторатом.\n",
       "Претензии новой\n",
       "Республики не\n",
       "встретили\n",
       "противодействия со\n",
       "стороны пятнадцати\n",
       "великих держав мира.\n",
       "Спорные вопросы о\n",
       "некоторых островах,\n",
       "всецело лежащих за\n",
       "полярным кругом, но\n",
       "тесно примыкавших к\n",
       "южно-полярным\n",
       "областям,\n",
       "потребовали\n",
       "отдельных трактатов.</TD>\n",
       " </TR>\n",
       "</TABLE>"
      ],
      "text/plain": [
       "<IPython.core.display.HTML object>"
      ]
     },
     "metadata": {},
     "output_type": "display_data"
    }
   ],
   "source": [
    "# imports russpelling-Module (https://github.com/ingoboerner/russpelling) \n",
    "from russpelling import *\n",
    "from collatex import *\n",
    "import re\n",
    "\n",
    "#with open('../drucke/rjuk_1906.txt','r') as text:\n",
    "#    rjuk_1906 = text.read()\n",
    "with open('../drucke/rjuk_1911_wikisource_new.txt', 'r') as text:\n",
    "    rjuk_1911_new = text.read()\n",
    "rjuk_1906 = \"За послѣднее время появился цѣлый рядъ описаній страшной катастрофы, постигшей Республику Южнаго Креста. Они по- разительно разнятся между собой и передаютъ не мало событій, явно фантастическихъ и невѣроятныхъ.\"\n",
    "#rjuk_1911_new = \"За последнее время появился целый ряд описаний страшной катастрофы, постигшей Республику Южного креста.\"\n",
    "collation = Collation()\n",
    "tokens_1906 = [create_token(word) for word in re.findall('\\w+\\s*|\\W+',rjuk_1906)]\n",
    "tokens_1911 = [create_token(word) for word in re.findall('\\w+\\s*|\\W+',rjuk_1911_new)]\n",
    "witness_1906 = {'id': 'old', 'tokens': tokens_1906}\n",
    "witness_1911 = {'id': 'new', 'tokens': tokens_1911}\n",
    "witnesses = [ witness_1906, witness_1911]\n",
    "collation_input = {'witnesses' : witnesses}\n",
    "collate(collation_input, output=\"html2\")"
   ]
  },
  {
   "cell_type": "markdown",
   "metadata": {
    "collapsed": true
   },
   "source": [
    "\"какія\" macht Probleme. Offensichtlich stimmt was mit \"kakija\" nicht"
   ]
  },
  {
   "cell_type": "code",
   "execution_count": null,
   "metadata": {
    "collapsed": true
   },
   "outputs": [],
   "source": []
  },
  {
   "cell_type": "code",
   "execution_count": null,
   "metadata": {
    "collapsed": true
   },
   "outputs": [],
   "source": []
  }
 ],
 "metadata": {
  "anaconda-cloud": {},
  "kernelspec": {
   "display_name": "Python [conda root]",
   "language": "python",
   "name": "conda-root-py"
  },
  "language_info": {
   "codemirror_mode": {
    "name": "ipython",
    "version": 3
   },
   "file_extension": ".py",
   "mimetype": "text/x-python",
   "name": "python",
   "nbconvert_exporter": "python",
   "pygments_lexer": "ipython3",
   "version": "3.5.2"
  }
 },
 "nbformat": 4,
 "nbformat_minor": 1
}
